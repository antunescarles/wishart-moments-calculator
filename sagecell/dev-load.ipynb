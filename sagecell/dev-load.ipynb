{
 "cells": [
  {
   "cell_type": "code",
   "execution_count": 41,
   "metadata": {},
   "outputs": [
    {
     "name": "stdout",
     "output_type": "stream",
     "text": [
      "foo(z^3)*w^2 + foo(z)*w\n",
      "S^2*foo(S^3) + S*foo(S)\n"
     ]
    }
   ],
   "source": [
    "function('foo')\n",
    "\n",
    "R1 = PolynomialRing(SR,'w')\n",
    "w = R1.gen()\n",
    "\n",
    "z = var('z')\n",
    "g = w*foo(z) + w^2*foo(z^3)\n",
    "print(g)\n",
    "\n",
    "R0 = PolynomialRing(SR,'S')\n",
    "R0._latex_names = ['\\\\Sigma']\n",
    "S = R0.gen()\n",
    "\n",
    "x = var('S',latex_name='\\\\Sigma')\n",
    "# e = S*foo(x)\n",
    "# print(e)\n",
    "# show(e)\n",
    "coefs = g.coefficients()"
   ]
  },
  {
   "cell_type": "code",
   "execution_count": 66,
   "metadata": {},
   "outputs": [
    {
     "name": "stdout",
     "output_type": "stream",
     "text": [
      "Univariate Polynomial Ring in S over Symbolic Ring\n",
      "8*n*S^3 + 4*n^2*tr(S, 1)*S^2 + (n^3*tr(S, 1)^2 + 2*n^2*tr(S, 2))*S\n"
     ]
    },
    {
     "data": {
      "text/html": [
       "<html><script type=\"math/tex; mode=display\">\\newcommand{\\Bold}[1]{\\mathbf{#1}}W {(\\mathrm{tr} \\, W)}^{2}</script></html>"
      ],
      "text/plain": [
       "W*tr(W, 1)^2"
      ]
     },
     "metadata": {},
     "output_type": "display_data"
    },
    {
     "data": {
      "text/html": [
       "<html><script type=\"math/tex; mode=display\">\\newcommand{\\Bold}[1]{\\mathbf{#1}}8 \\, {n} \\Sigma^{3} + 4 \\, {n}^{2} {(\\mathrm{tr} \\, {\\Sigma})} \\Sigma^{2} + \\left({n}^{3} {(\\mathrm{tr} \\, {\\Sigma})}^{2} + 2 \\, {n}^{2} {(\\mathrm{tr} \\, {\\Sigma}^{2})}\\right) \\Sigma</script></html>"
      ],
      "text/plain": [
       "8*n*S^3 + 4*n^2*tr(S, 1)*S^2 + (n^3*tr(S, 1)^2 + 2*n^2*tr(S, 2))*S"
      ]
     },
     "metadata": {},
     "output_type": "display_data"
    }
   ],
   "source": [
    "load('./ObjectWithPartitions.py')\n",
    "load('./Jacks.py')\n",
    "load('./Expectations.py')\n",
    "\n",
    "k=3\n",
    "expec = Expectations(k)\n",
    "# e.expressions(inverse=True)\n",
    "# v = e.moment(1,inverse=True)['var']\n",
    "# m = e.moment(1,inverse=True)['moment']\n",
    "# # parent(m)\n",
    "# show(v)\n",
    "# show(m)\n",
    "# print(v)\n",
    "# print(m)\n",
    "\n",
    "# Sigma = np.eye(3)\n",
    "# Sigma = np.array([[1,2],[2,1]])\n",
    "# n=2\n",
    "# e.evaluate_moment(0,n,Sigma)\n",
    "# S = var('S')\n",
    "# coefspairs = expec.moment(0)['moment'].coefficients(S)\n",
    "print(parent(expec.moment(0)['moment']))\n",
    "print(expec.moment(0)['moment'])\n",
    "show(expec.moment(0)['var'])\n",
    "show(expec.moment(0)['moment'])\n",
    "# print(expec.compute_r([3,0,0],True))\n",
    "# e = expec.compute_r([3,0,0],True)\n",
    "# show(expec.compute_L([3,0,0],True))\n"
   ]
  },
  {
   "cell_type": "code",
   "execution_count": null,
   "metadata": {},
   "outputs": [],
   "source": [
    "# import math # To use the method isnan() to check if variables are NaN or not.\n",
    "# import numpy as np\n",
    "# from bisect import bisect_left ###\n",
    "\n",
    "load('https://raw.githubusercontent.com/antunescarles/wishart-moments-calculator/package/package/WishartMoments/src/WishartMoments/ObjectWithPartitions.py')\n",
    "load('https://raw.githubusercontent.com/antunescarles/wishart-moments-calculator/package/package/WishartMoments/src/WishartMoments/Jacks2.py')\n",
    "load('https://raw.githubusercontent.com/antunescarles/wishart-moments-calculator/package/package/WishartMoments/src/WishartMoments/Expectations.py')\n",
    "\n",
    "@interact\n",
    "def wrpr(k = input_box(2,width = 8, label=\"$k$\")):\n",
    "\n",
    "    outmost_verbose = False\n",
    "\n",
    "    assert (k >= 1) , \"Error: k < 0\"\n",
    "\n",
    "    \n",
    "    wishartk = Expectations(k)\n",
    "    \n",
    "    i_list = [1 .. wishartk.number_of_expectations()]\n",
    "\n",
    "    i_list.reverse()\n",
    "\n",
    "    @interact\n",
    "    def _(Ik_indx = slider(vmin = i_list, label =\"$(i)$\"), positive =checkbox(False,\"Compute moment of $W$\"), inverse = checkbox(False,label = 'Compute moment of $W^{-1}$') ):\n",
    "\n",
    "        # Validation of the input\n",
    "        assert (1 <= Ik_indx and Ik_indx <= wishartk.number_of_expectations()) , \"Error: i < 0 or i > n (#partitions)\"\n",
    "        \n",
    "        pretty_print(html( r'$(i) = %s$' %  latex(tuple(wishartk.partition_to_portrait(wishartk.P[Ik_indx-1]))) ))\n",
    "\n",
    "        if positive:\n",
    "            wishartk.pretty_print_moment(Ik_indx-1)\n",
    "\n",
    "        if inverse:\n",
    "            pretty_print(html( r'$\\text{If } \\, n > %d + (r-1)$' % (2*wishartk.k)))\n",
    "            wishartk.pretty_print_moment(Ik_indx-1,True)"
   ]
  }
 ],
 "metadata": {
  "kernelspec": {
   "display_name": "SageMath 9.0",
   "language": "sage",
   "name": "sagemath"
  },
  "language_info": {
   "codemirror_mode": {
    "name": "ipython",
    "version": 3
   },
   "file_extension": ".py",
   "mimetype": "text/x-python",
   "name": "python",
   "nbconvert_exporter": "python",
   "pygments_lexer": "ipython3",
   "version": "3.7.3"
  }
 },
 "nbformat": 4,
 "nbformat_minor": 2
}
