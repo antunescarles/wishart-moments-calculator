{
 "cells": [
  {
   "cell_type": "code",
   "execution_count": 41,
   "metadata": {},
   "outputs": [
    {
     "name": "stdout",
     "output_type": "stream",
     "text": [
      "foo(z^3)*w^2 + foo(z)*w\n",
      "S^2*foo(S^3) + S*foo(S)\n"
     ]
    }
   ],
   "source": [
    "function('foo')\n",
    "\n",
    "R1 = PolynomialRing(SR,'w')\n",
    "w = R1.gen()\n",
    "\n",
    "z = var('z')\n",
    "g = w*foo(z) + w^2*foo(z^3)\n",
    "print(g)\n",
    "\n",
    "R0 = PolynomialRing(SR,'S')\n",
    "R0._latex_names = ['\\\\Sigma']\n",
    "S = R0.gen()\n",
    "\n",
    "x = var('S',latex_name='\\\\Sigma')\n",
    "# e = S*foo(x)\n",
    "# print(e)\n",
    "# show(e)\n",
    "coefs = g.coefficients()"
   ]
  },
  {
   "cell_type": "code",
   "execution_count": 34,
   "metadata": {},
   "outputs": [
    {
     "name": "stdout",
     "output_type": "stream",
     "text": [
      "<class 'numpy.ndarray'>\n",
      "[[0.67619048 0.         0.        ]\n",
      " [0.         0.67619048 0.        ]\n",
      " [0.         0.         0.67619048]]\n"
     ]
    },
    {
     "data": {
      "text/html": [
       "<html><script type=\"math/tex; mode=display\">\\newcommand{\\Bold}[1]{\\mathbf{#1}}{W^{-1}} {(\\mathrm{tr} \\, W^{-1})}^{2}</script></html>"
      ],
      "text/plain": [
       "inv(W, 1)*tr(W, -1)^2"
      ]
     },
     "metadata": {},
     "output_type": "display_data"
    },
    {
     "data": {
      "text/html": [
       "<html><script type=\"math/tex; mode=display\">\\newcommand{\\Bold}[1]{\\mathbf{#1}}\\begin{array}{l}\n",
       "\\verb|[[0.67619048|\\phantom{\\verb!x!}\\verb|0.|\\phantom{\\verb!xxxxxxxxx!}\\verb|0.|\\phantom{\\verb!xxxxxxxx!}\\verb|]|\\\\\n",
       "\\phantom{\\verb!x!}\\verb|[0.|\\phantom{\\verb!xxxxxxxxx!}\\verb|0.67619048|\\phantom{\\verb!x!}\\verb|0.|\\phantom{\\verb!xxxxxxxx!}\\verb|]|\\\\\n",
       "\\phantom{\\verb!x!}\\verb|[0.|\\phantom{\\verb!xxxxxxxxx!}\\verb|0.|\\phantom{\\verb!xxxxxxxxx!}\\verb|0.67619048]]|\n",
       "\\end{array}</script></html>"
      ],
      "text/plain": [
       "array([[0.67619048, 0.        , 0.        ],\n",
       "       [0.        , 0.67619048, 0.        ],\n",
       "       [0.        , 0.        , 0.67619048]])"
      ]
     },
     "metadata": {},
     "output_type": "display_data"
    },
    {
     "data": {
      "text/html": [
       "<p style=\"margin-top:2em; margin-bottom:2em; margin-left:4.5em\"><script type=\"math/tex\"> \\mathbb{E}(W {(\\mathrm{tr} \\, W)}^{2}) = \\left(\\begin{array}{rrr} 24273.0 & 0 & 0 \\\\ 0 & 24273.0 & 0 \\\\ 0 & 0 & 24273.0 \\end{array}\\right) </script></p>"
      ],
      "text/plain": [
       "<p style=\"margin-top:2em; margin-bottom:2em; margin-left:4.5em\"><script type=\"math/tex\"> \\mathbb{E}(W {(\\mathrm{tr} \\, W)}^{2}) = \\left(\\begin{array}{rrr} 24273.0 & 0 & 0 \\\\ 0 & 24273.0 & 0 \\\\ 0 & 0 & 24273.0 \\end{array}\\right) </script></p>"
      ]
     },
     "metadata": {},
     "output_type": "display_data"
    }
   ],
   "source": [
    "load('./ObjectWithPartitions.py')\n",
    "load('./Jacks.py')\n",
    "load('./Expectations.py')\n",
    "\n",
    "k=3\n",
    "expec = Expectations(k)\n",
    "# e.expressions(inverse=True)\n",
    "# v = e.moment(1,inverse=True)['var']\n",
    "# m = e.moment(1,inverse=True)['moment']\n",
    "# # parent(m)\n",
    "# show(v)\n",
    "# show(m)\n",
    "# print(v)\n",
    "# print(m)\n",
    "\n",
    "Sigma = np.eye(3)\n",
    "# Sigma = np.array([[1,2],[2,1]])\n",
    "n=9\n",
    "# e.evaluate_moment(0,n,Sigma)\n",
    "# S = var('S')\n",
    "# coefspairs = expec.moment(0)['moment'].coefficients(S)\n",
    "res = expec.evaluate_moment(0,n,Sigma,inverse=True)\n",
    "# res = expec.moment(0)\n",
    "# res = expec.moment(0,inverse=True)\n",
    "v = res['var']\n",
    "m = res['moment']\n",
    "print(parent(m))\n",
    "print(m)\n",
    "show(v)\n",
    "show(m)\n",
    "# print(expec.compute_r([3,0,0],True))\n",
    "# e = expec.compute_r([3,0,0],True)\n",
    "# show(expec.compute_L([3,0,0],True))\n",
    "expec.pretty_print_eval_moment(0,n,Sigma,False)"
   ]
  },
  {
   "cell_type": "code",
   "execution_count": 39,
   "metadata": {},
   "outputs": [
    {
     "data": {
      "application/vnd.jupyter.widget-view+json": {
       "model_id": "32c22a84d83547d28429bf3b14a2aabc",
       "version_major": 2,
       "version_minor": 0
      },
      "text/plain": [
       "Interactive function <function wrpr at 0x6ffee70476a8> with 4 widgets\n",
       "  k: EvalText(value='2', description='$k…"
      ]
     },
     "metadata": {},
     "output_type": "display_data"
    }
   ],
   "source": [
    "\n",
    "\n"
   ]
  },
  {
   "cell_type": "code",
   "execution_count": 28,
   "metadata": {},
   "outputs": [
    {
     "data": {
      "application/vnd.jupyter.widget-view+json": {
       "model_id": "dd051259d4d54dada2ddeb078095e423",
       "version_major": 2,
       "version_minor": 0
      },
      "text/plain": [
       "Interactive function <function wrpr at 0x6ffee869ab70> with 1 widget\n",
       "  k: EvalText(value='2', description='k',…"
      ]
     },
     "metadata": {},
     "output_type": "display_data"
    }
   ],
   "source": [
    "from sage.repl.ipython_kernel.interact import interact\n",
    "@interact\n",
    "def wrpr(k=input_box(2)):\n",
    "    print(k)"
   ]
  }
 ],
 "metadata": {
  "kernelspec": {
   "display_name": "SageMath 9.0",
   "language": "sage",
   "name": "sagemath"
  },
  "language_info": {
   "codemirror_mode": {
    "name": "ipython",
    "version": 3
   },
   "file_extension": ".py",
   "mimetype": "text/x-python",
   "name": "python",
   "nbconvert_exporter": "python",
   "pygments_lexer": "ipython3",
   "version": "3.7.3"
  }
 },
 "nbformat": 4,
 "nbformat_minor": 2
}
