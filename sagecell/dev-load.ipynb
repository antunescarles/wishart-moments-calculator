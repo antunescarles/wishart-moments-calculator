{
 "cells": [
  {
   "cell_type": "code",
   "execution_count": 31,
   "metadata": {},
   "outputs": [
    {
     "data": {
      "text/plain": [
       "{'var': W*tr(W, 1)^2,\n",
       " 'moment': S*n^3*tr(S, 1)^2 + 8.0*S^3*n + 2.0*(2*S^2*tr(S, 1) + S*tr(S, 2))*n^2}"
      ]
     },
     "execution_count": 31,
     "metadata": {},
     "output_type": "execute_result"
    }
   ],
   "source": [
    "load('./ObjectWithPartitions.py')\n",
    "load('./Jacks.py')\n",
    "load('./Expectations.py')\n",
    "\n",
    "k=3\n",
    "e = Expectations(k)\n",
    "# e.expressions(inverse=True)\n",
    "e.moment(0)\n",
    "\n",
    "# e.pretty_print_moment(0,inverse=True)\n",
    "\n",
    "# Sigma = identity_matrix(3)\n",
    "# n=3\n",
    "# e.evaluate_moment(0,n,Sigma)\n",
    "\n",
    "\n",
    "\n",
    "\n"
   ]
  },
  {
   "cell_type": "code",
   "execution_count": null,
   "metadata": {},
   "outputs": [],
   "source": [
    "# import math # To use the method isnan() to check if variables are NaN or not.\n",
    "# import numpy as np\n",
    "# from bisect import bisect_left ###\n",
    "\n",
    "load('https://raw.githubusercontent.com/antunescarles/wishart-moments-calculator/package/package/WishartMoments/src/WishartMoments/ObjectWithPartitions.py')\n",
    "load('https://raw.githubusercontent.com/antunescarles/wishart-moments-calculator/package/package/WishartMoments/src/WishartMoments/Jacks2.py')\n",
    "load('https://raw.githubusercontent.com/antunescarles/wishart-moments-calculator/package/package/WishartMoments/src/WishartMoments/Expectations.py')\n",
    "\n",
    "@interact\n",
    "def wrpr(k = input_box(2,width = 8, label=\"$k$\")):\n",
    "\n",
    "    outmost_verbose = False\n",
    "\n",
    "    assert (k >= 1) , \"Error: k < 0\"\n",
    "\n",
    "    \n",
    "    wishartk = Expectations(k)\n",
    "    \n",
    "    i_list = [1 .. wishartk.number_of_expectations()]\n",
    "\n",
    "    i_list.reverse()\n",
    "\n",
    "    @interact\n",
    "    def _(Ik_indx = slider(vmin = i_list, label =\"$(i)$\"), positive =checkbox(False,\"Compute moment of $W$\"), inverse = checkbox(False,label = 'Compute moment of $W^{-1}$') ):\n",
    "\n",
    "        # Validation of the input\n",
    "        assert (1 <= Ik_indx and Ik_indx <= wishartk.number_of_expectations()) , \"Error: i < 0 or i > n (#partitions)\"\n",
    "        \n",
    "        pretty_print(html( r'$(i) = %s$' %  latex(tuple(wishartk.partition_to_portrait(wishartk.P[Ik_indx-1]))) ))\n",
    "\n",
    "        if positive:\n",
    "            wishartk.pretty_print_moment(Ik_indx-1)\n",
    "\n",
    "        if inverse:\n",
    "            pretty_print(html( r'$\\text{If } \\, n > %d + (r-1)$' % (2*wishartk.k)))\n",
    "            wishartk.pretty_print_moment(Ik_indx-1,True)"
   ]
  }
 ],
 "metadata": {
  "kernelspec": {
   "display_name": "SageMath 9.0",
   "language": "sage",
   "name": "sagemath"
  },
  "language_info": {
   "codemirror_mode": {
    "name": "ipython",
    "version": 3
   },
   "file_extension": ".py",
   "mimetype": "text/x-python",
   "name": "python",
   "nbconvert_exporter": "python",
   "pygments_lexer": "ipython3",
   "version": "3.7.3"
  }
 },
 "nbformat": 4,
 "nbformat_minor": 2
}
