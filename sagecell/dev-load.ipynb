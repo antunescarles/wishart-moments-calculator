{
 "cells": [
  {
   "cell_type": "code",
   "execution_count": null,
   "metadata": {},
   "outputs": [],
   "source": [
    "function('foo')\n",
    "\n",
    "R1 = PolynomialRing(SR,'w')\n",
    "w = R1.gen()\n",
    "\n",
    "z = var('z')\n",
    "g = w*foo(z) + w^2*foo(z^3)\n",
    "print(g)\n",
    "\n",
    "R0 = PolynomialRing(SR,'S')\n",
    "R0._latex_names = ['\\\\Sigma']\n",
    "S = R0.gen()\n",
    "\n",
    "x = var('S',latex_name='\\\\Sigma')\n",
    "# e = S*foo(x)\n",
    "# print(e)\n",
    "# show(e)\n",
    "coefs = g.coefficients()"
   ]
  },
  {
   "cell_type": "code",
   "execution_count": null,
   "metadata": {},
   "outputs": [],
   "source": [
    "load('./ObjectWithPartitions.py')\n",
    "load('./Jacks.py')\n",
    "load('./Expectations.py')\n",
    "\n",
    "k=3\n",
    "expec = Expectations(k)\n",
    "# e.expressions(inverse=True)\n",
    "# v = e.moment(1,inverse=True)['var']\n",
    "# m = e.moment(1,inverse=True)['moment']\n",
    "# # parent(m)\n",
    "# show(v)\n",
    "# show(m)\n",
    "# print(v)\n",
    "# print(m)\n",
    "\n",
    "Sigma = np.eye(3)\n",
    "# Sigma = np.array([[1,2],[2,1]])\n",
    "n=9\n",
    "# e.evaluate_moment(0,n,Sigma)\n",
    "# S = var('S')\n",
    "# coefspairs = expec.moment(0)['moment'].coefficients(S)\n",
    "res = expec.evaluate_moment(0,n,Sigma,inverse=True)\n",
    "# res = expec.moment(0)\n",
    "# res = expec.moment(0,inverse=True)\n",
    "v = res['var']\n",
    "m = res['moment']\n",
    "print(parent(m))\n",
    "print(m)\n",
    "show(v)\n",
    "show(m)\n",
    "# print(expec.compute_r([3,0,0],True))\n",
    "# e = expec.compute_r([3,0,0],True)\n",
    "# show(expec.compute_L([3,0,0],True))\n",
    "expec.pretty_print_eval_moment(0,n,Sigma,False)"
   ]
  },
  {
   "cell_type": "code",
   "execution_count": null,
   "metadata": {},
   "outputs": [],
   "source": [
    "from sage.repl.ipython_kernel.interact import interact\n",
    "@interact\n",
    "def wrpr(k=input_box(2)):\n",
    "    print(k)"
   ]
  },
  {
   "cell_type": "code",
   "execution_count": 3,
   "metadata": {},
   "outputs": [
    {
     "data": {
      "application/vnd.jupyter.widget-view+json": {
       "model_id": "c5e4c634e87745e48624bb5062b551c3",
       "version_major": 2,
       "version_minor": 0
      },
      "text/plain": [
       "Interactive function <function wrpr at 0x6ffed9a2ed90> with 4 widgets\n",
       "  k: EvalText(value='2', description='$k…"
      ]
     },
     "metadata": {},
     "output_type": "display_data"
    }
   ],
   "source": [
    "from sage.repl.ipython_kernel.interact import interact\n",
    "load('https://raw.githubusercontent.com/antunescarles/wishart-moments-calculator/main/sagecell/ObjectWithPartitions.py')\n",
    "load('https://raw.githubusercontent.com/antunescarles/wishart-moments-calculator/main/sagecell/Jacks.py')\n",
    "load('https://raw.githubusercontent.com/antunescarles/wishart-moments-calculator/main/sagecell/Expectations.py')\n",
    "\n",
    "# k = 3\n",
    "# n=9\n",
    "Sigma = np.eye(3)\n",
    "\n",
    "@interact\n",
    "def wrpr(k = input_box(2,width = 8, label=\"$k$\") , N_param = input_box(2,width = 8,label = \"$n$\") , positive =checkbox(False,\"Compute moment of $W$\"), inverse = checkbox(True,label = 'Compute moment of $W^{-1}$') ):\n",
    "\n",
    "    outmost_verbose = False\n",
    "\n",
    "    assert (k >= 1) , \"Error: k < 0\"\n",
    "\n",
    "    wishartk = Expectations(k)\n",
    "    \n",
    "    i_list = [1 .. wishartk.number_of_expectations()]\n",
    "    i_list.reverse()\n",
    "\n",
    "    @interact\n",
    "    def _(Ik_indx = slider(vmin = i_list, label =\"$(i)$\")):\n",
    "        \n",
    "        # Validation of the input\n",
    "        assert (1 <= Ik_indx and Ik_indx <= wishartk.number_of_expectations()) , \"Error: i < 0 or i > n (#partitions)\"\n",
    "        \n",
    "        pretty_print(html( r'$(i) = %s$' %  latex(tuple(wishartk.partition_to_portrait(wishartk.P[Ik_indx-1]))) ))\n",
    "\n",
    "        if positive:\n",
    "            wishartk.pretty_print_eval_moment(Ik_indx-1,N_param,Sigma)\n",
    "\n",
    "        if inverse:\n",
    "            if (N_param > 2*wishartk.k + Sigma.shape[0] -1):\n",
    "                wishartk.pretty_print_eval_moment(Ik_indx-1,N_param,Sigma,True)\n",
    "            else:\n",
    "                pretty_print(html( r'$  \\text{ The integer } n \\text{ must satisfy } n > %d \\text{ to compute }  \\mathbb{E}(%s) $' % ((2*wishartk.k + Sigma.shape[0] -1),latex(wishartk.expression(Ik_indx-1,True)))))"
   ]
  }
 ],
 "metadata": {
  "kernelspec": {
   "display_name": "SageMath 9.0",
   "language": "sage",
   "name": "sagemath"
  },
  "language_info": {
   "codemirror_mode": {
    "name": "ipython",
    "version": 3
   },
   "file_extension": ".py",
   "mimetype": "text/x-python",
   "name": "python",
   "nbconvert_exporter": "python",
   "pygments_lexer": "ipython3",
   "version": "3.7.3"
  }
 },
 "nbformat": 4,
 "nbformat_minor": 2
}
