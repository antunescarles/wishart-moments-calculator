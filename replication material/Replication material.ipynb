{
 "cells": [
  {
   "cell_type": "code",
   "execution_count": 2,
   "metadata": {},
   "outputs": [],
   "source": [
    "# #To install the \\verb|WishartMoments| package, the user must open a Sage shell #and install the package via the \\verb|pip| utility:\n",
    "\n",
    "\n",
    "# (sage-sh)   sage -pip install WishartMoments\n",
    "\n",
    "\n",
    "#To use the package, it is only necessary to import it as any other Python package\n",
    "\n",
    "import WishartMoments as wm"
   ]
  },
  {
   "cell_type": "code",
   "execution_count": 3,
   "metadata": {},
   "outputs": [],
   "source": [
    "#We will now show how to compute the following Wishart moments of order 3, \n",
    "# E(W^3) and E(W (trace(W))^2)\n",
    "\n",
    "#First we have to create an instance of the class \\verb|Expectations|.\n",
    "\n",
    "k=3\n",
    "expec = wm.Expectations(k)"
   ]
  },
  {
   "cell_type": "code",
   "execution_count": 4,
   "metadata": {},
   "outputs": [
    {
     "name": "stdout",
     "output_type": "stream",
     "text": [
      "[0, W*tr(W, 1)^2]\n",
      "[1, 2/3*W^2*tr(W, 1) + 1/3*W*tr(W, 2)]\n",
      "[2, W^3]\n"
     ]
    }
   ],
   "source": [
    "#We need to know how to reference the expressions of which we want to compute #their expectations. We can get a list the expressions of order  k   by using the #method  \"expressions\" of \"Expectations\", which returns a list of 2-element lists with #the index of the portrait and the the expression for expectation of the moment #corresponding to it.\n",
    "\n",
    "expec.expressions()\n",
    "\n",
    "#The output should be\n",
    "#\n",
    "#    [0, W*tr(W, 1)^2]\n",
    "#    [1, 2/3*W^2*tr(W, 1) + 1/3*W*tr(W, 2)]\n",
    "#    [2, W^3]\n",
    "\n",
    "# Here  tr(A,j) represents trace(A^j). Therefore, to get  W (trace(W)))^2 we call the #method \"moment\" with the index \"0\"."
   ]
  },
  {
   "cell_type": "code",
   "execution_count": null,
   "metadata": {},
   "outputs": [],
   "source": [
    "expec.moment(0)\n",
    "\n",
    "#The output should be\n",
    "#\n",
    "# 'var': W*tr(W, 1)^2 ,\n",
    "# 'moment': S*n^3*tr(S, 1)^2 + 8*S^3*n + 2*(2*S^2*tr(S, 1) + S*tr(S, 2))*n^2"
   ]
  },
  {
   "cell_type": "code",
   "execution_count": null,
   "metadata": {},
   "outputs": [],
   "source": [
    "#Similarly we use the index \"2\" to get  W^3.\n",
    "expec.moment(2)\n",
    "\n",
    "#The output should be\n",
    "#\n",
    "# 'var': W^3 ,\n",
    "# 'moment': (n^3 + 3*n^2 + 4*n)*S^3 + S*n*tr(S, 1)^2 + (2*S^2*tr(S, 1)\n",
    "# + S*tr(S, 2))*(n^2 + n)"
   ]
  },
  {
   "cell_type": "code",
   "execution_count": null,
   "metadata": {},
   "outputs": [],
   "source": [
    "# As for the moment of the inverse, we can call  \"moment\" with the argument \"inverse\" set to \"True\".\n",
    "\n",
    "expec.expressions(inverse = True)\n",
    "\n",
    "\n",
    "#The output should be\n",
    "#\n",
    "#   [0, inv(W, 1)*tr(W, -1)^2]\n",
    "#   [1, 2/3*inv(W, 2)*tr(W, -1) + 1/3*inv(W, 1)*tr(W, -2)]\n",
    "#   [2, inv(W, 3)]\n",
    "\n",
    "#Here inv(A,j) represents   A^(-j). We use the index \"2\" to get  W^(-3)."
   ]
  },
  {
   "cell_type": "code",
   "execution_count": null,
   "metadata": {},
   "outputs": [],
   "source": [
    "expec.moment(2, inverse = True)\n",
    "\n",
    "\n",
    "#The output should be\n",
    "#\n",
    "# 'var': inv(W, 3) ,\n",
    "# \n",
    "# 'moment': 2/3*(n^2 - 2*n*r + r^2 - 4*n + 4*r + 7)*inv(S, 2)*tr(S, -1)/\n",
    "# ( (n - r + 1)*(n - r)*(n - r - 1)*(n - r - 3)*(n - r - 5) ) \n",
    "# + 4*inv(S, 3)/((n - r + 1)*(n - r)*(n - r - 3)*(n - r - 5))\n",
    "# + 1/3*(3*n*tr(S, -1)^2\n",
    "# - 3*r*tr(S, -1)^2 + n^2*tr(S, -2)\n",
    "# - 2*n*r*tr(S, -2) + r^2*tr(S, -2)\n",
    "# - 9*tr(S, -1)^2\n",
    "# - 4*n*tr(S, -2) + 4*r*tr(S, -2)\n",
    "# + 7*tr(S, -2))*inv(S, 1)/\n",
    "# ((n - r + 1)*(n - r)*(n - r - 1)*(n - r - 3)*(n - r - 5))"
   ]
  },
  {
   "cell_type": "code",
   "execution_count": null,
   "metadata": {},
   "outputs": [],
   "source": [
    "#We can obtain the string with the \"\\LaTeX\\phantom{ }code\" representing these #expressions by using the built-in function \"latex\". For instance, if we want to get #the code for the variable  W (trace(W))^2, we should use the following commands\n",
    "\n",
    "latex(expec.moment(0)['var'])\n",
    "\n",
    "#The output should be\n",
    "#\n",
    "# W {(\\mathrm{tr} \\, W)}^{2}"
   ]
  },
  {
   "cell_type": "code",
   "execution_count": null,
   "metadata": {},
   "outputs": [],
   "source": [
    "# and for its expectation,\n",
    "\n",
    "latex(expec.moment(0)['moment'])\n",
    "\n",
    "#The output should be\n",
    "#\n",
    "#        {\\Sigma} {n}^{3} {(\\mathrm{tr} \\, {\\Sigma})}^{2} + 8 \\, {\\Sigma}^{3} {n}\n",
    "#       + 2 \\, {\\left(2 \\, {\\Sigma}^{2} {(\\mathrm{tr} \\, {\\Sigma})} \n",
    "# + {\\Sigma} {(\\mathrm{tr} \\, {\\Sigma}^{2})}\\right)} {n}^{2}"
   ]
  },
  {
   "cell_type": "code",
   "execution_count": null,
   "metadata": {},
   "outputs": [],
   "source": [
    "#Notice that an instance of the form \"wm.Expectations(3)\" only permits to compute #moments of order 3. To compute a moment of a different order, say k=4, the user #has to instantiate a new object of the class #wm.Expectations(4)#. We will #continue with the examples using the same parameter as we were doing so far, #that is \"\\code{k=3}\", so that can keep using the same object \"expec\".\n",
    "\n",
    "#Now we show how to compute the numerical value of the moment $E(W #(trace(W))^2)    for a Wishart distributions with parameters  n=10  and \n",
    "# \n",
    "# Sigma =  4  1 \n",
    "#                  1  3\n",
    "\n",
    "#We want to remark that neither the package nor the website will check if the #matrix  \"Sigma\" is positive definite.\n",
    "\n",
    "#We first set the matrix \"Sigma\":\n",
    "import numpy as np\n",
    "\n",
    "Sigma = np.array([[4,1],[1,3]]);"
   ]
  },
  {
   "cell_type": "code",
   "execution_count": null,
   "metadata": {},
   "outputs": [],
   "source": [
    "# To evaluate the moment we use the \"evaluate_moment\" where the parameters #are \"t\" (the index of the expression in the list  \"expec.expressions()\" for which we #require its expectation),  \"n_param\" (the numerical value for the parameter n), \n",
    "#\"Sigma\" (the numerical value for the matrix \"Sigma\") and the boolean parameter #\"inverse\" (\"False\" will compute the moment of  W  and \"True\" the moment for #W^(-1)). Here we need to compute E(W trace (W^2)) and therefore\n",
    "#the parameters are passed as follows.\n",
    "\n",
    "ev = expec.evaluate_moment(t=0, n_param=10, Sigma = Sigma, inverse=False);"
   ]
  },
  {
   "cell_type": "code",
   "execution_count": null,
   "metadata": {},
   "outputs": [],
   "source": [
    "#As \"ev\" is a dictonary, we can retrieve the variable by using the key \"'var'\"\n",
    "\n",
    "ev['var']\n",
    " \n",
    "\n",
    "#The output should look like\n",
    "#\n",
    "#     W*tr(W, 1)^2"
   ]
  },
  {
   "cell_type": "code",
   "execution_count": null,
   "metadata": {},
   "outputs": [],
   "source": [
    "#To get the moment we use the key \"'moment'\"\n",
    "ev['moment']\n",
    "\n",
    "#The output should look like\n",
    "#\n",
    "#     array([[813600., 231120.],\n",
    "#        [231120., 582480.]])"
   ]
  }
 ],
 "metadata": {
  "kernelspec": {
   "display_name": "SageMath 9.0",
   "language": "sage",
   "name": "sagemath"
  },
  "language_info": {
   "codemirror_mode": {
    "name": "ipython",
    "version": 3
   },
   "file_extension": ".py",
   "mimetype": "text/x-python",
   "name": "python",
   "nbconvert_exporter": "python",
   "pygments_lexer": "ipython3",
   "version": "3.7.3"
  }
 },
 "nbformat": 4,
 "nbformat_minor": 4
}
