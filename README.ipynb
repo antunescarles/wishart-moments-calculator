{
 "cells": [
  {
   "cell_type": "markdown",
   "metadata": {},
   "source": [
    "WishartMoments is a python Package using the mathematical software SAGE for computing all the invariant moments of a Wishart distributed variable.\n",
    "\n",
    "## Features\n",
    "\n",
    "- Compute the symbolic expression for the expectation of order $k$."
   ]
  }
 ],
 "metadata": {
  "kernelspec": {
   "display_name": "Python 3",
   "language": "python",
   "name": "python3"
  },
  "language_info": {
   "codemirror_mode": {
    "name": "ipython",
    "version": 3
   },
   "file_extension": ".py",
   "mimetype": "text/x-python",
   "name": "python",
   "nbconvert_exporter": "python",
   "pygments_lexer": "ipython3",
   "version": "3.7.3"
  }
 },
 "nbformat": 4,
 "nbformat_minor": 2
}
